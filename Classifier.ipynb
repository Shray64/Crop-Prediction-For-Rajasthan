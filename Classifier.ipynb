{
 "cells": [
  {
   "cell_type": "code",
   "execution_count": 0,
   "metadata": {
    "colab": {},
    "colab_type": "code",
    "id": "5aptOJp2hQ8-"
   },
   "outputs": [],
   "source": [
    "import pandas as pd\n",
    "import numpy as np\n",
    "from sklearn.metrics import classification_report, confusion_matrix\n",
    "from sklearn.model_selection import train_test_split\n",
    "from sklearn.neighbors import KNeighborsClassifier"
   ]
  },
  {
   "cell_type": "code",
   "execution_count": 0,
   "metadata": {
    "colab": {
     "base_uri": "https://localhost:8080/",
     "height": 34
    },
    "colab_type": "code",
    "executionInfo": {
     "elapsed": 1441,
     "status": "ok",
     "timestamp": 1589295136714,
     "user": {
      "displayName": "GANDHI ATITH NIKESHKUMAR",
      "photoUrl": "",
      "userId": "12813335252695738859"
     },
     "user_tz": -330
    },
    "id": "h23DppNvheDi",
    "outputId": "0b51f772-e89e-4cf3-a54f-1d47c662a8e5"
   },
   "outputs": [
    {
     "name": "stdout",
     "output_type": "stream",
     "text": [
      "Drive already mounted at /content/drive; to attempt to forcibly remount, call drive.mount(\"/content/drive\", force_remount=True).\n"
     ]
    }
   ],
   "source": [
    "from google.colab import drive\n",
    "drive.mount('/content/drive')"
   ]
  },
  {
   "cell_type": "code",
   "execution_count": 0,
   "metadata": {
    "colab": {},
    "colab_type": "code",
    "id": "-jerPnMwhm9d"
   },
   "outputs": [],
   "source": [
    "path = 'drive/My Drive/SOP'"
   ]
  },
  {
   "cell_type": "code",
   "execution_count": 0,
   "metadata": {
    "colab": {},
    "colab_type": "code",
    "id": "-fP7qUS9hxSA"
   },
   "outputs": [],
   "source": [
    "dataset = pd.read_csv('drive/My Drive/SOP/dataset.csv')"
   ]
  },
  {
   "cell_type": "code",
   "execution_count": 0,
   "metadata": {
    "colab": {},
    "colab_type": "code",
    "id": "TDYUOAZbkkvt"
   },
   "outputs": [],
   "source": [
    "dataset.dropna(inplace = True)"
   ]
  },
  {
   "cell_type": "code",
   "execution_count": 0,
   "metadata": {
    "colab": {},
    "colab_type": "code",
    "id": "oU8wDRe2j41d"
   },
   "outputs": [],
   "source": [
    "def crop_to_numeric(x):\n",
    "    if x=='Bajra':\n",
    "        return 0\n",
    "    if x=='Barley':\n",
    "        return 1\n",
    "    if x=='Maize':\n",
    "        return 2\n",
    "    if x=='Mustard':\n",
    "        return 3\n",
    "    if x=='Soyabean':\n",
    "        return 4\n",
    "    if x=='Wheat':\n",
    "        return 5"
   ]
  },
  {
   "cell_type": "code",
   "execution_count": 0,
   "metadata": {
    "colab": {},
    "colab_type": "code",
    "id": "ltgNNmcxj6pd"
   },
   "outputs": [],
   "source": [
    "use['Crop'] = use['Crop'].apply(crop_to_numeric)"
   ]
  },
  {
   "cell_type": "code",
   "execution_count": 0,
   "metadata": {
    "colab": {},
    "colab_type": "code",
    "id": "Cm9TWGa-jb8t"
   },
   "outputs": [],
   "source": [
    "X = use.drop(columns = ['Crop'])\n",
    "y = use['Crop']"
   ]
  },
  {
   "cell_type": "code",
   "execution_count": 0,
   "metadata": {
    "colab": {
     "base_uri": "https://localhost:8080/",
     "height": 204
    },
    "colab_type": "code",
    "executionInfo": {
     "elapsed": 2285,
     "status": "ok",
     "timestamp": 1589300093338,
     "user": {
      "displayName": "GANDHI ATITH NIKESHKUMAR",
      "photoUrl": "",
      "userId": "12813335252695738859"
     },
     "user_tz": -330
    },
    "id": "UTUxTnB2js4n",
    "outputId": "3dda388a-10f3-4059-c9b0-71acb55b758c"
   },
   "outputs": [
    {
     "data": {
      "text/html": [
       "<div>\n",
       "<style scoped>\n",
       "    .dataframe tbody tr th:only-of-type {\n",
       "        vertical-align: middle;\n",
       "    }\n",
       "\n",
       "    .dataframe tbody tr th {\n",
       "        vertical-align: top;\n",
       "    }\n",
       "\n",
       "    .dataframe thead th {\n",
       "        text-align: right;\n",
       "    }\n",
       "</style>\n",
       "<table border=\"1\" class=\"dataframe\">\n",
       "  <thead>\n",
       "    <tr style=\"text-align: right;\">\n",
       "      <th></th>\n",
       "      <th>NDWI</th>\n",
       "      <th>Soil Moisture</th>\n",
       "      <th>Soil PH</th>\n",
       "      <th>Soil Salinity</th>\n",
       "      <th>Rainfall(in mm)</th>\n",
       "      <th>Temperature(C)</th>\n",
       "    </tr>\n",
       "  </thead>\n",
       "  <tbody>\n",
       "    <tr>\n",
       "      <th>0</th>\n",
       "      <td>0.506860</td>\n",
       "      <td>0.986113</td>\n",
       "      <td>0.739289</td>\n",
       "      <td>0.547050</td>\n",
       "      <td>0.001696</td>\n",
       "      <td>0.34354</td>\n",
       "    </tr>\n",
       "    <tr>\n",
       "      <th>1</th>\n",
       "      <td>0.472628</td>\n",
       "      <td>0.848216</td>\n",
       "      <td>0.618961</td>\n",
       "      <td>0.519427</td>\n",
       "      <td>0.001696</td>\n",
       "      <td>0.34354</td>\n",
       "    </tr>\n",
       "    <tr>\n",
       "      <th>2</th>\n",
       "      <td>0.581727</td>\n",
       "      <td>0.662545</td>\n",
       "      <td>0.524104</td>\n",
       "      <td>0.485453</td>\n",
       "      <td>0.001696</td>\n",
       "      <td>0.34354</td>\n",
       "    </tr>\n",
       "    <tr>\n",
       "      <th>3</th>\n",
       "      <td>0.552298</td>\n",
       "      <td>0.647964</td>\n",
       "      <td>0.467877</td>\n",
       "      <td>0.511516</td>\n",
       "      <td>0.001696</td>\n",
       "      <td>0.34354</td>\n",
       "    </tr>\n",
       "    <tr>\n",
       "      <th>4</th>\n",
       "      <td>0.608327</td>\n",
       "      <td>0.524501</td>\n",
       "      <td>0.396626</td>\n",
       "      <td>0.467384</td>\n",
       "      <td>0.001696</td>\n",
       "      <td>0.34354</td>\n",
       "    </tr>\n",
       "  </tbody>\n",
       "</table>\n",
       "</div>"
      ],
      "text/plain": [
       "       NDWI  Soil Moisture  ...  Rainfall(in mm)  Temperature(C)\n",
       "0  0.506860       0.986113  ...         0.001696         0.34354\n",
       "1  0.472628       0.848216  ...         0.001696         0.34354\n",
       "2  0.581727       0.662545  ...         0.001696         0.34354\n",
       "3  0.552298       0.647964  ...         0.001696         0.34354\n",
       "4  0.608327       0.524501  ...         0.001696         0.34354\n",
       "\n",
       "[5 rows x 6 columns]"
      ]
     },
     "execution_count": 68,
     "metadata": {
      "tags": []
     },
     "output_type": "execute_result"
    }
   ],
   "source": [
    "X_min = X.min()\n",
    "X_max = X.max()\n",
    "X_range = (X_max- X_min)\n",
    "X_scaled = (X - X_min)/(X_range)\n",
    "X_scaled.head()"
   ]
  },
  {
   "cell_type": "code",
   "execution_count": 0,
   "metadata": {
    "colab": {},
    "colab_type": "code",
    "id": "ZdVyI5NHlrAN"
   },
   "outputs": [],
   "source": [
    "#X_scaled.dropna(inplace = True)\n",
    "X_train=X_scaled"
   ]
  },
  {
   "cell_type": "code",
   "execution_count": 0,
   "metadata": {
    "colab": {},
    "colab_type": "code",
    "id": "YRaCQW85mBt7"
   },
   "outputs": [],
   "source": [
    "#X_scaled.drop(columns = ['Phosphorous Content'], inplace = True)"
   ]
  },
  {
   "cell_type": "code",
   "execution_count": 0,
   "metadata": {
    "colab": {},
    "colab_type": "code",
    "id": "Fn1Kz9Znmjk3"
   },
   "outputs": [],
   "source": [
    "X_train, X_test, y_train, y_test = train_test_split(X_scaled, y, test_size=0.3, random_state=1)"
   ]
  },
  {
   "cell_type": "markdown",
   "metadata": {
    "colab_type": "text",
    "id": "87qowQt11pmb"
   },
   "source": [
    "kNN classifier \n"
   ]
  },
  {
   "cell_type": "code",
   "execution_count": 0,
   "metadata": {
    "colab": {
     "base_uri": "https://localhost:8080/",
     "height": 68
    },
    "colab_type": "code",
    "executionInfo": {
     "elapsed": 1238,
     "status": "ok",
     "timestamp": 1589295148313,
     "user": {
      "displayName": "GANDHI ATITH NIKESHKUMAR",
      "photoUrl": "",
      "userId": "12813335252695738859"
     },
     "user_tz": -330
    },
    "id": "9a7e7jdXm6kq",
    "outputId": "eeae259c-cfc1-42cf-d497-a607752e0741"
   },
   "outputs": [
    {
     "data": {
      "text/plain": [
       "KNeighborsClassifier(algorithm='auto', leaf_size=30, metric='euclidean',\n",
       "                     metric_params=None, n_jobs=None, n_neighbors=5, p=2,\n",
       "                     weights='uniform')"
      ]
     },
     "execution_count": 24,
     "metadata": {
      "tags": []
     },
     "output_type": "execute_result"
    }
   ],
   "source": [
    "knn = KNeighborsClassifier(n_neighbors = 5, metric = 'euclidean')\n",
    "knn.fit(X_train, y_train)"
   ]
  },
  {
   "cell_type": "code",
   "execution_count": 0,
   "metadata": {
    "colab": {},
    "colab_type": "code",
    "id": "v1WElQ7rnQ-I"
   },
   "outputs": [],
   "source": [
    "y_pred = knn.predict(X_test)"
   ]
  },
  {
   "cell_type": "code",
   "execution_count": 0,
   "metadata": {
    "colab": {
     "base_uri": "https://localhost:8080/",
     "height": 34
    },
    "colab_type": "code",
    "executionInfo": {
     "elapsed": 1283,
     "status": "ok",
     "timestamp": 1589295149683,
     "user": {
      "displayName": "GANDHI ATITH NIKESHKUMAR",
      "photoUrl": "",
      "userId": "12813335252695738859"
     },
     "user_tz": -330
    },
    "id": "puaGY02HnTHx",
    "outputId": "a60c5535-7374-453b-eec7-210783651092"
   },
   "outputs": [
    {
     "data": {
      "text/plain": [
       "0.9529411764705882"
      ]
     },
     "execution_count": 26,
     "metadata": {
      "tags": []
     },
     "output_type": "execute_result"
    }
   ],
   "source": [
    "knn.score(X_test, y_test)"
   ]
  },
  {
   "cell_type": "code",
   "execution_count": 0,
   "metadata": {
    "colab": {
     "base_uri": "https://localhost:8080/",
     "height": 235
    },
    "colab_type": "code",
    "executionInfo": {
     "elapsed": 989,
     "status": "ok",
     "timestamp": 1589295149684,
     "user": {
      "displayName": "GANDHI ATITH NIKESHKUMAR",
      "photoUrl": "",
      "userId": "12813335252695738859"
     },
     "user_tz": -330
    },
    "id": "uCIFcBmKoju_",
    "outputId": "33ce524c-aa75-4e5b-e05a-52ca4e3af24c"
   },
   "outputs": [
    {
     "data": {
      "text/html": [
       "<div>\n",
       "<style scoped>\n",
       "    .dataframe tbody tr th:only-of-type {\n",
       "        vertical-align: middle;\n",
       "    }\n",
       "\n",
       "    .dataframe tbody tr th {\n",
       "        vertical-align: top;\n",
       "    }\n",
       "\n",
       "    .dataframe thead th {\n",
       "        text-align: right;\n",
       "    }\n",
       "</style>\n",
       "<table border=\"1\" class=\"dataframe\">\n",
       "  <thead>\n",
       "    <tr style=\"text-align: right;\">\n",
       "      <th></th>\n",
       "      <th>predicted_Wheat</th>\n",
       "      <th>predicted_Soyabean</th>\n",
       "      <th>predicted_Mustard</th>\n",
       "      <th>predicted_Maize</th>\n",
       "      <th>predicted_Barley</th>\n",
       "      <th>predicted_Bajra</th>\n",
       "    </tr>\n",
       "  </thead>\n",
       "  <tbody>\n",
       "    <tr>\n",
       "      <th>is_Wheat</th>\n",
       "      <td>38</td>\n",
       "      <td>0</td>\n",
       "      <td>0</td>\n",
       "      <td>0</td>\n",
       "      <td>0</td>\n",
       "      <td>0</td>\n",
       "    </tr>\n",
       "    <tr>\n",
       "      <th>is_Soyabean</th>\n",
       "      <td>0</td>\n",
       "      <td>21</td>\n",
       "      <td>0</td>\n",
       "      <td>0</td>\n",
       "      <td>0</td>\n",
       "      <td>0</td>\n",
       "    </tr>\n",
       "    <tr>\n",
       "      <th>is_Mustard</th>\n",
       "      <td>0</td>\n",
       "      <td>0</td>\n",
       "      <td>25</td>\n",
       "      <td>0</td>\n",
       "      <td>0</td>\n",
       "      <td>8</td>\n",
       "    </tr>\n",
       "    <tr>\n",
       "      <th>is_Maize</th>\n",
       "      <td>0</td>\n",
       "      <td>0</td>\n",
       "      <td>0</td>\n",
       "      <td>33</td>\n",
       "      <td>0</td>\n",
       "      <td>0</td>\n",
       "    </tr>\n",
       "    <tr>\n",
       "      <th>is_Barley</th>\n",
       "      <td>0</td>\n",
       "      <td>0</td>\n",
       "      <td>0</td>\n",
       "      <td>0</td>\n",
       "      <td>23</td>\n",
       "      <td>0</td>\n",
       "    </tr>\n",
       "    <tr>\n",
       "      <th>is_Bajra</th>\n",
       "      <td>0</td>\n",
       "      <td>0</td>\n",
       "      <td>0</td>\n",
       "      <td>0</td>\n",
       "      <td>0</td>\n",
       "      <td>22</td>\n",
       "    </tr>\n",
       "  </tbody>\n",
       "</table>\n",
       "</div>"
      ],
      "text/plain": [
       "             predicted_Wheat  ...  predicted_Bajra\n",
       "is_Wheat                  38  ...                0\n",
       "is_Soyabean                0  ...                0\n",
       "is_Mustard                 0  ...                8\n",
       "is_Maize                   0  ...                0\n",
       "is_Barley                  0  ...                0\n",
       "is_Bajra                   0  ...               22\n",
       "\n",
       "[6 rows x 6 columns]"
      ]
     },
     "execution_count": 27,
     "metadata": {
      "tags": []
     },
     "output_type": "execute_result"
    }
   ],
   "source": [
    "cm = np.array(confusion_matrix(y_test, y_pred, labels=[5,4,3,2,1,0]))\n",
    "confusion = pd.DataFrame(cm, index=['is_Wheat', 'is_Soyabean','is_Mustard','is_Maize', 'is_Barley', 'is_Bajra'],\n",
    "                         columns=['predicted_Wheat','predicted_Soyabean', 'predicted_Mustard', 'predicted_Maize', 'predicted_Barley', 'predicted_Bajra'])\n",
    "confusion"
   ]
  },
  {
   "cell_type": "code",
   "execution_count": 0,
   "metadata": {
    "colab": {
     "base_uri": "https://localhost:8080/",
     "height": 238
    },
    "colab_type": "code",
    "executionInfo": {
     "elapsed": 965,
     "status": "ok",
     "timestamp": 1589295150090,
     "user": {
      "displayName": "GANDHI ATITH NIKESHKUMAR",
      "photoUrl": "",
      "userId": "12813335252695738859"
     },
     "user_tz": -330
    },
    "id": "1VUcigY3uGyY",
    "outputId": "d53b650e-7102-4b12-b216-6b7bef8958e5"
   },
   "outputs": [
    {
     "name": "stdout",
     "output_type": "stream",
     "text": [
      "              precision    recall  f1-score   support\n",
      "\n",
      "           0       0.73      1.00      0.85        22\n",
      "           1       1.00      1.00      1.00        23\n",
      "           2       1.00      1.00      1.00        33\n",
      "           3       1.00      0.76      0.86        33\n",
      "           4       1.00      1.00      1.00        21\n",
      "           5       1.00      1.00      1.00        38\n",
      "\n",
      "    accuracy                           0.95       170\n",
      "   macro avg       0.96      0.96      0.95       170\n",
      "weighted avg       0.97      0.95      0.95       170\n",
      "\n"
     ]
    }
   ],
   "source": [
    "print(classification_report(y_test, y_pred))"
   ]
  },
  {
   "cell_type": "code",
   "execution_count": 0,
   "metadata": {
    "colab": {
     "base_uri": "https://localhost:8080/",
     "height": 68
    },
    "colab_type": "code",
    "executionInfo": {
     "elapsed": 1152,
     "status": "ok",
     "timestamp": 1589295150998,
     "user": {
      "displayName": "GANDHI ATITH NIKESHKUMAR",
      "photoUrl": "",
      "userId": "12813335252695738859"
     },
     "user_tz": -330
    },
    "id": "TB9edtBU1lk-",
    "outputId": "796636d4-6e93-4dd6-b7bf-f48d6e1a7976"
   },
   "outputs": [
    {
     "data": {
      "text/plain": [
       "KNeighborsClassifier(algorithm='auto', leaf_size=30, metric='manhattan',\n",
       "                     metric_params=None, n_jobs=None, n_neighbors=5, p=2,\n",
       "                     weights='uniform')"
      ]
     },
     "execution_count": 29,
     "metadata": {
      "tags": []
     },
     "output_type": "execute_result"
    }
   ],
   "source": [
    "knn = KNeighborsClassifier(n_neighbors = 5, metric = 'manhattan')\n",
    "knn.fit(X_train, y_train)"
   ]
  },
  {
   "cell_type": "code",
   "execution_count": 0,
   "metadata": {
    "colab": {},
    "colab_type": "code",
    "id": "Y3nNdz6o11Sp"
   },
   "outputs": [],
   "source": [
    "y_pred = knn.predict(X_test)"
   ]
  },
  {
   "cell_type": "code",
   "execution_count": 0,
   "metadata": {
    "colab": {
     "base_uri": "https://localhost:8080/",
     "height": 34
    },
    "colab_type": "code",
    "executionInfo": {
     "elapsed": 1463,
     "status": "ok",
     "timestamp": 1589295153948,
     "user": {
      "displayName": "GANDHI ATITH NIKESHKUMAR",
      "photoUrl": "",
      "userId": "12813335252695738859"
     },
     "user_tz": -330
    },
    "id": "Kslf8kH813s1",
    "outputId": "4733bff4-fe23-4b0c-aa57-e1ac56c39f88"
   },
   "outputs": [
    {
     "data": {
      "text/plain": [
       "1.0"
      ]
     },
     "execution_count": 31,
     "metadata": {
      "tags": []
     },
     "output_type": "execute_result"
    }
   ],
   "source": [
    "knn.score(X_test, y_test)"
   ]
  },
  {
   "cell_type": "code",
   "execution_count": 0,
   "metadata": {
    "colab": {
     "base_uri": "https://localhost:8080/",
     "height": 235
    },
    "colab_type": "code",
    "executionInfo": {
     "elapsed": 1446,
     "status": "ok",
     "timestamp": 1589295153949,
     "user": {
      "displayName": "GANDHI ATITH NIKESHKUMAR",
      "photoUrl": "",
      "userId": "12813335252695738859"
     },
     "user_tz": -330
    },
    "id": "UKUa-ojx132i",
    "outputId": "5b9c9d56-c08d-4271-822a-b1acb41990e2"
   },
   "outputs": [
    {
     "data": {
      "text/html": [
       "<div>\n",
       "<style scoped>\n",
       "    .dataframe tbody tr th:only-of-type {\n",
       "        vertical-align: middle;\n",
       "    }\n",
       "\n",
       "    .dataframe tbody tr th {\n",
       "        vertical-align: top;\n",
       "    }\n",
       "\n",
       "    .dataframe thead th {\n",
       "        text-align: right;\n",
       "    }\n",
       "</style>\n",
       "<table border=\"1\" class=\"dataframe\">\n",
       "  <thead>\n",
       "    <tr style=\"text-align: right;\">\n",
       "      <th></th>\n",
       "      <th>predicted_Wheat</th>\n",
       "      <th>predicted_Soyabean</th>\n",
       "      <th>predicted_Mustard</th>\n",
       "      <th>predicted_Maize</th>\n",
       "      <th>predicted_Barley</th>\n",
       "      <th>predicted_Bajra</th>\n",
       "    </tr>\n",
       "  </thead>\n",
       "  <tbody>\n",
       "    <tr>\n",
       "      <th>is_Wheat</th>\n",
       "      <td>38</td>\n",
       "      <td>0</td>\n",
       "      <td>0</td>\n",
       "      <td>0</td>\n",
       "      <td>0</td>\n",
       "      <td>0</td>\n",
       "    </tr>\n",
       "    <tr>\n",
       "      <th>is_Soyabean</th>\n",
       "      <td>0</td>\n",
       "      <td>21</td>\n",
       "      <td>0</td>\n",
       "      <td>0</td>\n",
       "      <td>0</td>\n",
       "      <td>0</td>\n",
       "    </tr>\n",
       "    <tr>\n",
       "      <th>is_Mustard</th>\n",
       "      <td>0</td>\n",
       "      <td>0</td>\n",
       "      <td>33</td>\n",
       "      <td>0</td>\n",
       "      <td>0</td>\n",
       "      <td>0</td>\n",
       "    </tr>\n",
       "    <tr>\n",
       "      <th>is_Maize</th>\n",
       "      <td>0</td>\n",
       "      <td>0</td>\n",
       "      <td>0</td>\n",
       "      <td>33</td>\n",
       "      <td>0</td>\n",
       "      <td>0</td>\n",
       "    </tr>\n",
       "    <tr>\n",
       "      <th>is_Barley</th>\n",
       "      <td>0</td>\n",
       "      <td>0</td>\n",
       "      <td>0</td>\n",
       "      <td>0</td>\n",
       "      <td>23</td>\n",
       "      <td>0</td>\n",
       "    </tr>\n",
       "    <tr>\n",
       "      <th>is_Bajra</th>\n",
       "      <td>0</td>\n",
       "      <td>0</td>\n",
       "      <td>0</td>\n",
       "      <td>0</td>\n",
       "      <td>0</td>\n",
       "      <td>22</td>\n",
       "    </tr>\n",
       "  </tbody>\n",
       "</table>\n",
       "</div>"
      ],
      "text/plain": [
       "             predicted_Wheat  ...  predicted_Bajra\n",
       "is_Wheat                  38  ...                0\n",
       "is_Soyabean                0  ...                0\n",
       "is_Mustard                 0  ...                0\n",
       "is_Maize                   0  ...                0\n",
       "is_Barley                  0  ...                0\n",
       "is_Bajra                   0  ...               22\n",
       "\n",
       "[6 rows x 6 columns]"
      ]
     },
     "execution_count": 32,
     "metadata": {
      "tags": []
     },
     "output_type": "execute_result"
    }
   ],
   "source": [
    "cm = np.array(confusion_matrix(y_test, y_pred, labels=[5,4,3,2,1,0]))\n",
    "confusion = pd.DataFrame(cm, index=['is_Wheat', 'is_Soyabean','is_Mustard','is_Maize', 'is_Barley', 'is_Bajra'],\n",
    "                         columns=['predicted_Wheat','predicted_Soyabean', 'predicted_Mustard', 'predicted_Maize', 'predicted_Barley', 'predicted_Bajra'])\n",
    "confusion"
   ]
  },
  {
   "cell_type": "code",
   "execution_count": 0,
   "metadata": {
    "colab": {
     "base_uri": "https://localhost:8080/",
     "height": 238
    },
    "colab_type": "code",
    "executionInfo": {
     "elapsed": 1432,
     "status": "ok",
     "timestamp": 1589295153950,
     "user": {
      "displayName": "GANDHI ATITH NIKESHKUMAR",
      "photoUrl": "",
      "userId": "12813335252695738859"
     },
     "user_tz": -330
    },
    "id": "S1yhYleB2GYM",
    "outputId": "9e991f0e-5813-4d71-b796-7bebc9923635"
   },
   "outputs": [
    {
     "name": "stdout",
     "output_type": "stream",
     "text": [
      "              precision    recall  f1-score   support\n",
      "\n",
      "           0       1.00      1.00      1.00        22\n",
      "           1       1.00      1.00      1.00        23\n",
      "           2       1.00      1.00      1.00        33\n",
      "           3       1.00      1.00      1.00        33\n",
      "           4       1.00      1.00      1.00        21\n",
      "           5       1.00      1.00      1.00        38\n",
      "\n",
      "    accuracy                           1.00       170\n",
      "   macro avg       1.00      1.00      1.00       170\n",
      "weighted avg       1.00      1.00      1.00       170\n",
      "\n"
     ]
    }
   ],
   "source": [
    "print(classification_report(y_test, y_pred))"
   ]
  },
  {
   "cell_type": "code",
   "execution_count": 0,
   "metadata": {
    "colab": {
     "base_uri": "https://localhost:8080/",
     "height": 68
    },
    "colab_type": "code",
    "executionInfo": {
     "elapsed": 2312,
     "status": "ok",
     "timestamp": 1589295154956,
     "user": {
      "displayName": "GANDHI ATITH NIKESHKUMAR",
      "photoUrl": "",
      "userId": "12813335252695738859"
     },
     "user_tz": -330
    },
    "id": "mYh5dUn22QiR",
    "outputId": "a1f9d58e-3d95-42d2-a3d3-9df927a58518"
   },
   "outputs": [
    {
     "data": {
      "text/plain": [
       "KNeighborsClassifier(algorithm='auto', leaf_size=30, metric='chebyshev',\n",
       "                     metric_params=None, n_jobs=None, n_neighbors=5, p=2,\n",
       "                     weights='uniform')"
      ]
     },
     "execution_count": 34,
     "metadata": {
      "tags": []
     },
     "output_type": "execute_result"
    }
   ],
   "source": [
    "knn = KNeighborsClassifier(n_neighbors = 5, metric = 'chebyshev')\n",
    "knn.fit(X_train, y_train)"
   ]
  },
  {
   "cell_type": "code",
   "execution_count": 0,
   "metadata": {
    "colab": {},
    "colab_type": "code",
    "id": "kawe7lPA2QmW"
   },
   "outputs": [],
   "source": [
    "y_pred = knn.predict(X_test)"
   ]
  },
  {
   "cell_type": "code",
   "execution_count": 0,
   "metadata": {
    "colab": {
     "base_uri": "https://localhost:8080/",
     "height": 34
    },
    "colab_type": "code",
    "executionInfo": {
     "elapsed": 2522,
     "status": "ok",
     "timestamp": 1589295155829,
     "user": {
      "displayName": "GANDHI ATITH NIKESHKUMAR",
      "photoUrl": "",
      "userId": "12813335252695738859"
     },
     "user_tz": -330
    },
    "id": "_cwMQ3rB2anG",
    "outputId": "760f5131-341a-4e6d-add6-2975aeade587"
   },
   "outputs": [
    {
     "data": {
      "text/plain": [
       "0.8823529411764706"
      ]
     },
     "execution_count": 37,
     "metadata": {
      "tags": []
     },
     "output_type": "execute_result"
    }
   ],
   "source": [
    "knn.score(X_test, y_test)"
   ]
  },
  {
   "cell_type": "code",
   "execution_count": 0,
   "metadata": {
    "colab": {},
    "colab_type": "code",
    "id": "ahnveAng2a9x"
   },
   "outputs": [],
   "source": [
    "cm = np.array(confusion_matrix(y_test, y_pred, labels=[5,4,3,2,1,0]))\n",
    "confusion = pd.DataFrame(cm, index=['is_Wheat', 'is_Soyabean','is_Mustard','is_Maize', 'is_Barley', 'is_Bajra'],\n",
    "                         columns=['predicted_Wheat','predicted_Soyabean', 'predicted_Mustard', 'predicted_Maize', 'predicted_Barley', 'predicted_Bajra'])\n",
    "confusion"
   ]
  },
  {
   "cell_type": "code",
   "execution_count": 0,
   "metadata": {
    "colab": {
     "base_uri": "https://localhost:8080/",
     "height": 238
    },
    "colab_type": "code",
    "executionInfo": {
     "elapsed": 1980,
     "status": "ok",
     "timestamp": 1589295155830,
     "user": {
      "displayName": "GANDHI ATITH NIKESHKUMAR",
      "photoUrl": "",
      "userId": "12813335252695738859"
     },
     "user_tz": -330
    },
    "id": "kiYvFWN42jak",
    "outputId": "610ee2ae-0b18-40cc-addf-c941a8d120d9"
   },
   "outputs": [
    {
     "name": "stdout",
     "output_type": "stream",
     "text": [
      "              precision    recall  f1-score   support\n",
      "\n",
      "           0       0.58      0.86      0.69        22\n",
      "           1       0.96      1.00      0.98        23\n",
      "           2       1.00      0.94      0.97        33\n",
      "           3       0.86      0.55      0.67        33\n",
      "           4       0.91      1.00      0.95        21\n",
      "           5       1.00      1.00      1.00        38\n",
      "\n",
      "    accuracy                           0.88       170\n",
      "   macro avg       0.88      0.89      0.88       170\n",
      "weighted avg       0.90      0.88      0.88       170\n",
      "\n"
     ]
    }
   ],
   "source": [
    "print(classification_report(y_test, y_pred))"
   ]
  },
  {
   "cell_type": "code",
   "execution_count": 0,
   "metadata": {
    "colab": {},
    "colab_type": "code",
    "id": "KrgH-9LW2lYe"
   },
   "outputs": [],
   "source": [
    "knn = KNeighborsClassifier(n_neighbors = 5, metric = 'minkowski')\n",
    "knn.fit(X_train, y_train)"
   ]
  },
  {
   "cell_type": "code",
   "execution_count": 0,
   "metadata": {
    "colab": {},
    "colab_type": "code",
    "id": "2zJfRUYF2o4p"
   },
   "outputs": [],
   "source": [
    "y_pred = knn.predict(X_test)"
   ]
  },
  {
   "cell_type": "code",
   "execution_count": 0,
   "metadata": {
    "colab": {},
    "colab_type": "code",
    "id": "8Z21Ad6F2pBJ"
   },
   "outputs": [],
   "source": [
    "knn.score(X_test, y_test)"
   ]
  },
  {
   "cell_type": "code",
   "execution_count": 0,
   "metadata": {
    "colab": {},
    "colab_type": "code",
    "id": "5u-YZwMx23Gw"
   },
   "outputs": [],
   "source": [
    "cm = np.array(confusion_matrix(y_test, y_pred, labels=[5,4,3,2,1,0]))\n",
    "confusion = pd.DataFrame(cm, index=['is_Wheat', 'is_Soyabean','is_Mustard','is_Maize', 'is_Barley', 'is_Bajra'],\n",
    "                         columns=['predicted_Wheat','predicted_Soyabean', 'predicted_Mustard', 'predicted_Maize', 'predicted_Barley', 'predicted_Bajra'])\n",
    "confusion"
   ]
  },
  {
   "cell_type": "code",
   "execution_count": 0,
   "metadata": {
    "colab": {},
    "colab_type": "code",
    "id": "hbBsoI6723e5"
   },
   "outputs": [],
   "source": [
    "print(classification_report(y_test, y_pred))"
   ]
  },
  {
   "cell_type": "code",
   "execution_count": 0,
   "metadata": {
    "colab": {},
    "colab_type": "code",
    "id": "uvWrGqDV3dcZ"
   },
   "outputs": [],
   "source": [
    "#X_train, X_test, y_train, y_test = train_test_split(X_scaled, y, random_state = 0)"
   ]
  },
  {
   "cell_type": "markdown",
   "metadata": {
    "colab_type": "text",
    "id": "AHPiX9nd3NFE"
   },
   "source": [
    "SVM classifier"
   ]
  },
  {
   "cell_type": "code",
   "execution_count": 0,
   "metadata": {
    "colab": {},
    "colab_type": "code",
    "id": "Oo7ZVsIuzdF4"
   },
   "outputs": [],
   "source": [
    "S\n",
    "\n",
    "#Soft margin SVM\n",
    "svm_model = SVC(kernel = 'linear', C = 1).fit(X_train, y_train) \n",
    "svm_predictions = svm_model.predict(X_test)   \n",
    "# model accuracy for X_test   \n",
    "accuracy = svm_model.score(X_test, y_test) "
   ]
  },
  {
   "cell_type": "code",
   "execution_count": 0,
   "metadata": {
    "colab": {},
    "colab_type": "code",
    "id": "U28TQEURz3ZB"
   },
   "outputs": [],
   "source": [
    "accuracy*100"
   ]
  },
  {
   "cell_type": "code",
   "execution_count": 0,
   "metadata": {
    "colab": {},
    "colab_type": "code",
    "id": "DNbm_5xp3kpY"
   },
   "outputs": [],
   "source": [
    "cm = np.array(confusion_matrix(y_test, svm_predictions, labels=[5,4,3,2,1,0]))\n",
    "confusion = pd.DataFrame(cm, index=['is_Wheat', 'is_Soyabean','is_Mustard','is_Maize', 'is_Barley', 'is_Bajra'],\n",
    "                         columns=['predicted_Wheat','predicted_Soyabean', 'predicted_Mustard', 'predicted_Maize', 'predicted_Barley', 'predicted_Bajra'])\n",
    "confusion"
   ]
  },
  {
   "cell_type": "code",
   "execution_count": 0,
   "metadata": {
    "colab": {},
    "colab_type": "code",
    "id": "IO6pXtHR3qWd"
   },
   "outputs": [],
   "source": [
    "print(classification_report(y_test, svm_predictions))"
   ]
  },
  {
   "cell_type": "code",
   "execution_count": 0,
   "metadata": {
    "colab": {},
    "colab_type": "code",
    "id": "TKRag1Hg3XZ5"
   },
   "outputs": [],
   "source": [
    "#Hard margin SVM\n",
    "\n",
    "svm_model = SVC(kernel = 'linear', C = 1000).fit(X_train, y_train) \n",
    "svm_predictions = svm_model.predict(X_test)      \n",
    "accuracy = svm_model.score(X_test, y_test) "
   ]
  },
  {
   "cell_type": "code",
   "execution_count": 0,
   "metadata": {
    "colab": {},
    "colab_type": "code",
    "id": "j5JPnHm732li"
   },
   "outputs": [],
   "source": [
    "accuracy*100"
   ]
  },
  {
   "cell_type": "code",
   "execution_count": 0,
   "metadata": {
    "colab": {},
    "colab_type": "code",
    "id": "VcVWyvXL35h7"
   },
   "outputs": [],
   "source": [
    "cm = np.array(confusion_matrix(y_test, svm_predictions, labels=[5,4,3,2,1,0]))\n",
    "confusion = pd.DataFrame(cm, index=['is_Wheat', 'is_Soyabean','is_Mustard','is_Maize', 'is_Barley', 'is_Bajra'],\n",
    "                         columns=['predicted_Wheat','predicted_Soyabean', 'predicted_Mustard', 'predicted_Maize', 'predicted_Barley', 'predicted_Bajra'])\n",
    "confusion"
   ]
  },
  {
   "cell_type": "code",
   "execution_count": 0,
   "metadata": {
    "colab": {},
    "colab_type": "code",
    "id": "EzDQW5ex35vf"
   },
   "outputs": [],
   "source": [
    "print(classification_report(y_test, svm_predictions))"
   ]
  },
  {
   "cell_type": "code",
   "execution_count": 0,
   "metadata": {
    "colab": {},
    "colab_type": "code",
    "id": "mPDnPw-g0Igf"
   },
   "outputs": [],
   "source": [
    "# rbf kernel\n",
    "\n",
    "svm_model = SVC(kernel = 'rbf', C = 1).fit(X_train, y_train) \n",
    "svm_predictions = svm_model.predict(X_test)     \n",
    "accuracy = svm_model.score(X_test, y_test) "
   ]
  },
  {
   "cell_type": "code",
   "execution_count": 0,
   "metadata": {
    "colab": {},
    "colab_type": "code",
    "id": "DzT4XHo908KU"
   },
   "outputs": [],
   "source": [
    "cm = np.array(confusion_matrix(y_test, svm_predictions, labels=[5,4,3,2,1,0]))\n",
    "confusion = pd.DataFrame(cm, index=['is_Wheat', 'is_Soyabean','is_Mustard','is_Maize', 'is_Barley', 'is_Bajra'],\n",
    "                         columns=['predicted_Wheat','predicted_Soyabean', 'predicted_Mustard', 'predicted_Maize', 'predicted_Barley', 'predicted_Bajra'])\n",
    "confusion"
   ]
  },
  {
   "cell_type": "code",
   "execution_count": 0,
   "metadata": {
    "colab": {},
    "colab_type": "code",
    "id": "EJJYq5C71Lui"
   },
   "outputs": [],
   "source": [
    "print(classification_report(y_test, svm_predictions))"
   ]
  },
  {
   "cell_type": "code",
   "execution_count": 0,
   "metadata": {
    "colab": {},
    "colab_type": "code",
    "id": "85y_18gz1X_7"
   },
   "outputs": [],
   "source": [
    "#polynomial kernel\n",
    "\n",
    "svm_model = SVC(kernel = 'poly', C = 1).fit(X_train, y_train) \n",
    "svm_predictions = svm_model.predict(X_test)      \n",
    "accuracy = svm_model.score(X_test, y_test) \n",
    "accuracy*100"
   ]
  },
  {
   "cell_type": "code",
   "execution_count": 0,
   "metadata": {
    "colab": {},
    "colab_type": "code",
    "id": "M7Mj_QqY4zgh"
   },
   "outputs": [],
   "source": [
    "cm = np.array(confusion_matrix(y_test, svm_predictions, labels=[5,4,3,2,1,0]))\n",
    "confusion = pd.DataFrame(cm, index=['is_Wheat', 'is_Soyabean','is_Mustard','is_Maize', 'is_Barley', 'is_Bajra'],\n",
    "                         columns=['predicted_Wheat','predicted_Soyabean', 'predicted_Mustard', 'predicted_Maize', 'predicted_Barley', 'predicted_Bajra'])\n",
    "confusion"
   ]
  },
  {
   "cell_type": "code",
   "execution_count": 0,
   "metadata": {
    "colab": {},
    "colab_type": "code",
    "id": "F6OZ9J0_4zby"
   },
   "outputs": [],
   "source": [
    "print(classification_report(y_test, svm_predictions))"
   ]
  },
  {
   "cell_type": "markdown",
   "metadata": {
    "colab_type": "text",
    "id": "3dAm6Hvs8YBo"
   },
   "source": [
    "Logistic Regression"
   ]
  },
  {
   "cell_type": "code",
   "execution_count": 0,
   "metadata": {
    "colab": {},
    "colab_type": "code",
    "id": "arNtSfC78XCG"
   },
   "outputs": [],
   "source": [
    "from sklearn.linear_model import LogisticRegression\n",
    "lr_model = LogisticRegression(random_state = 0, solver = 'lbfgs').fit(X_train, y_train) \n",
    "lr_predictions = lr_model.predict(X_test)      \n",
    "accuracy = lr_model.score(X_test, y_test) \n",
    "accuracy*100"
   ]
  },
  {
   "cell_type": "code",
   "execution_count": 0,
   "metadata": {
    "colab": {},
    "colab_type": "code",
    "id": "uyMmxMpT8-Vj"
   },
   "outputs": [],
   "source": [
    "cm = np.array(confusion_matrix(y_test, lr_predictions, labels=[5,4,3,2,1,0]))\n",
    "confusion = pd.DataFrame(cm, index=['is_Wheat', 'is_Soyabean','is_Mustard','is_Maize', 'is_Barley', 'is_Bajra'],\n",
    "                         columns=['predicted_Wheat','predicted_Soyabean', 'predicted_Mustard', 'predicted_Maize', 'predicted_Barley', 'predicted_Bajra'])\n",
    "confusion"
   ]
  },
  {
   "cell_type": "code",
   "execution_count": 0,
   "metadata": {
    "colab": {},
    "colab_type": "code",
    "id": "_jc_Nclo9jzh"
   },
   "outputs": [],
   "source": [
    "print(classification_report(y_test, lr_predictions))"
   ]
  },
  {
   "cell_type": "code",
   "execution_count": 0,
   "metadata": {
    "colab": {},
    "colab_type": "code",
    "id": "fCNIxG569Vpb"
   },
   "outputs": [],
   "source": [
    "lr_model = LogisticRegression(random_state = 0, solver = 'liblinear').fit(X_train, y_train) \n",
    "lr_predictions = lr_model.predict(X_test)      \n",
    "accuracy = lr_model.score(X_test, y_test) \n",
    "accuracy*100"
   ]
  },
  {
   "cell_type": "code",
   "execution_count": 0,
   "metadata": {
    "colab": {},
    "colab_type": "code",
    "id": "fCCC-8Gy9puw"
   },
   "outputs": [],
   "source": [
    "cm = np.array(confusion_matrix(y_test, lr_predictions, labels=[5,4,3,2,1,0]))\n",
    "confusion = pd.DataFrame(cm, index=['is_Wheat', 'is_Soyabean','is_Mustard','is_Maize', 'is_Barley', 'is_Bajra'],\n",
    "                         columns=['predicted_Wheat','predicted_Soyabean', 'predicted_Mustard', 'predicted_Maize', 'predicted_Barley', 'predicted_Bajra'])\n",
    "confusion"
   ]
  },
  {
   "cell_type": "code",
   "execution_count": 0,
   "metadata": {
    "colab": {},
    "colab_type": "code",
    "id": "2a0ylEHy9slZ"
   },
   "outputs": [],
   "source": [
    "print(classification_report(y_test, lr_predictions))"
   ]
  },
  {
   "cell_type": "code",
   "execution_count": 0,
   "metadata": {
    "colab": {},
    "colab_type": "code",
    "id": "t0Bvy8Bs9vg5"
   },
   "outputs": [],
   "source": [
    "lr_model = LogisticRegression(random_state = 0, solver = 'newton-cg').fit(X_train, y_train) \n",
    "lr_predictions = lr_model.predict(X_test)      \n",
    "accuracy = lr_model.score(X_test, y_test) \n",
    "accuracy*100"
   ]
  },
  {
   "cell_type": "code",
   "execution_count": 0,
   "metadata": {
    "colab": {},
    "colab_type": "code",
    "id": "scSuQQoZ-Bzp"
   },
   "outputs": [],
   "source": [
    "lr_model = LogisticRegression(random_state = 0, solver = 'sag').fit(X_train, y_train) \n",
    "lr_predictions = lr_model.predict(X_test)      \n",
    "accuracy = lr_model.score(X_test, y_test) \n",
    "accuracy*100"
   ]
  },
  {
   "cell_type": "code",
   "execution_count": 0,
   "metadata": {
    "colab": {},
    "colab_type": "code",
    "id": "Dsy5gxIG-IbO"
   },
   "outputs": [],
   "source": [
    "lr_model = LogisticRegression(random_state = 0, solver = 'saga').fit(X_train, y_train) \n",
    "lr_predictions = lr_model.predict(X_test)      \n",
    "accuracy = lr_model.score(X_test, y_test) \n",
    "accuracy*100"
   ]
  },
  {
   "cell_type": "markdown",
   "metadata": {
    "colab_type": "text",
    "id": "y2ZgNt7O-jYw"
   },
   "source": [
    "Naive Bayes"
   ]
  },
  {
   "cell_type": "code",
   "execution_count": 0,
   "metadata": {
    "colab": {},
    "colab_type": "code",
    "id": "SCLVyCVw-Xia"
   },
   "outputs": [],
   "source": [
    "from sklearn.naive_bayes import GaussianNB\n",
    "gnb_model = GaussianNB().fit(X_train, y_train)\n",
    "gnb_predictions = gnb_model.predict(X_test)\n",
    "accuracy = gnb_model.score(X_test, y_test)\n",
    "accuracy*100"
   ]
  },
  {
   "cell_type": "markdown",
   "metadata": {
    "colab_type": "text",
    "id": "0eAea-JzAvxE"
   },
   "source": [
    "RandomForest Classifier"
   ]
  },
  {
   "cell_type": "code",
   "execution_count": 0,
   "metadata": {
    "colab": {},
    "colab_type": "code",
    "id": "w1qZ_V8j_L7m"
   },
   "outputs": [],
   "source": [
    "from sklearn.ensemble import RandomForestClassifier\n",
    "rfc_model = RandomForestClassifier(n_estimators = 6, random_state = None).fit(X_train, y_train)\n",
    "rfc_predictions = rfc_model.predict(X_test)\n",
    "accuracy = rfc_model.score(X_test, y_test)\n",
    "accuracy*100"
   ]
  },
  {
   "cell_type": "markdown",
   "metadata": {
    "colab_type": "text",
    "id": "44_LiQu95J_R"
   },
   "source": [
    "MLP classifier"
   ]
  },
  {
   "cell_type": "code",
   "execution_count": 0,
   "metadata": {
    "colab": {},
    "colab_type": "code",
    "id": "Z8qvUYbFYNmM"
   },
   "outputs": [],
   "source": [
    "from sklearn.neural_network import MLPClassifier\n",
    "\n",
    "clf = MLPClassifier(solver='lbfgs', alpha=1e-5,\n",
    "                     hidden_layer_sizes=(5, 2), random_state=1, max_iter = 1000, activation = 'relu')\n",
    "clf.fit(X_train, y_train)"
   ]
  },
  {
   "cell_type": "code",
   "execution_count": 0,
   "metadata": {
    "colab": {},
    "colab_type": "code",
    "id": "IjNOth7CZaZJ"
   },
   "outputs": [],
   "source": [
    "nn_predictions = clf.predict(X_test)   \n",
    "# model accuracy for X_test   \n",
    "accuracy = clf.score(X_test, y_test) "
   ]
  },
  {
   "cell_type": "code",
   "execution_count": 0,
   "metadata": {
    "colab": {},
    "colab_type": "code",
    "id": "0lD99VSSZu1p"
   },
   "outputs": [],
   "source": [
    "accuracy"
   ]
  },
  {
   "cell_type": "code",
   "execution_count": 0,
   "metadata": {
    "colab": {},
    "colab_type": "code",
    "id": "D9guM8KqZzcN"
   },
   "outputs": [],
   "source": [
    "cm = np.array(confusion_matrix(y_test, nn_predictions, labels=[5,4,3,2,1,0]))\n",
    "confusion = pd.DataFrame(cm, index=['is_Wheat', 'is_Soyabean','is_Mustard','is_Maize', 'is_Barley', 'is_Bajra'],\n",
    "                         columns=['predicted_Wheat','predicted_Soyabean', 'predicted_Mustard', 'predicted_Maize', 'predicted_Barley', 'predicted_Bajra'])\n",
    "confusion"
   ]
  },
  {
   "cell_type": "code",
   "execution_count": 0,
   "metadata": {
    "colab": {},
    "colab_type": "code",
    "id": "DFiVH9N6885x"
   },
   "outputs": [],
   "source": [
    "from xgboost import XGBClassifier\n",
    "import matplotlib.pyplot as plt"
   ]
  },
  {
   "cell_type": "code",
   "execution_count": 0,
   "metadata": {
    "colab": {},
    "colab_type": "code",
    "id": "-L5Yyx1A9HO6"
   },
   "outputs": [],
   "source": [
    "X_train, X_test, y_train, y_test = train_test_split(X_scaled, y, test_size=0.4)"
   ]
  },
  {
   "cell_type": "code",
   "execution_count": 0,
   "metadata": {
    "colab": {},
    "colab_type": "code",
    "id": "EIR2vSG59bNG"
   },
   "outputs": [],
   "source": [
    "clf = XGBClassifier()\n",
    "clf.fit(X_train,y_train)"
   ]
  },
  {
   "cell_type": "code",
   "execution_count": 0,
   "metadata": {
    "colab": {},
    "colab_type": "code",
    "id": "kOtXXSAy9bT3"
   },
   "outputs": [],
   "source": [
    "importance_data = sorted(list(zip(X_scaled.columns,clf.feature_importances_)),key=lambda tpl:tpl[1],reverse=True)"
   ]
  },
  {
   "cell_type": "code",
   "execution_count": 0,
   "metadata": {
    "colab": {},
    "colab_type": "code",
    "id": "aNncXi9R9nj8"
   },
   "outputs": [],
   "source": [
    "xs = range(len(importance_data))\n",
    "labels = [x for (x,_) in importance_data]\n",
    "ys = [y for (_,y) in importance_data]\n",
    "\n",
    "# plot\n",
    "plt.clf()\n",
    "plt.bar(xs,ys,width=0.5)\n",
    "plt.xticks(xs,labels)\n",
    "plt.show()\n"
   ]
  },
  {
   "cell_type": "code",
   "execution_count": 0,
   "metadata": {
    "colab": {},
    "colab_type": "code",
    "id": "8b_7J23a9yGq"
   },
   "outputs": [],
   "source": [
    "use.head()"
   ]
  },
  {
   "cell_type": "code",
   "execution_count": 0,
   "metadata": {
    "colab": {},
    "colab_type": "code",
    "id": "LiMA3EWZ-PJE"
   },
   "outputs": [],
   "source": [
    "data = use[['Soil Moisture', 'Soil PH']]\n",
    "target = use['Crop']"
   ]
  },
  {
   "cell_type": "code",
   "execution_count": 0,
   "metadata": {
    "colab": {},
    "colab_type": "code",
    "id": "3Rd_ZKd_98xf"
   },
   "outputs": [],
   "source": [
    "X_train, X_test, y_train, y_test = train_test_split(data.values, target.values, test_size=0.4)\n",
    "\n",
    "clf = XGBClassifier()\n",
    "clf.fit(X_train,y_train)\n",
    "\n",
    "# build importance data\n",
    "importance_data = sorted(list(zip(data.columns,clf.feature_importances_)),key=lambda tpl:tpl[1],reverse=True)\n",
    "\n",
    "xs = range(len(importance_data))\n",
    "labels = [x for (x,_) in importance_data]\n",
    "ys = [y for (_,y) in importance_data]\n",
    "\n",
    "# plot\n",
    "plt.clf()\n",
    "plt.bar(xs,ys,width=0.5)\n",
    "plt.xticks(xs,labels)\n",
    "plt.show()"
   ]
  },
  {
   "cell_type": "code",
   "execution_count": 0,
   "metadata": {
    "colab": {},
    "colab_type": "code",
    "id": "79pCCmbT_Yw4"
   },
   "outputs": [],
   "source": [
    "X_combine_rain = X_scaled[['NDWI', 'Soil Moisture', 'Soil PH', 'Soil Moisture', 'Rainfall(in mm)']]\n",
    "X_combine_temp = X_scaled[['NDWI', 'Soil Moisture', 'Soil PH', 'Soil Moisture', 'Temperature(C)']]\n",
    "X_temp = X_scaled[['Temperature(C)']]\n",
    "X_rain = X_scaled[['Rainfall(in mm)']]"
   ]
  },
  {
   "cell_type": "code",
   "execution_count": 0,
   "metadata": {
    "colab": {},
    "colab_type": "code",
    "id": "xiAyoNOE_2qI"
   },
   "outputs": [],
   "source": [
    "X_train, X_test, y_train, y_test = train_test_split(X_temp, y, random_state = 0)"
   ]
  },
  {
   "cell_type": "code",
   "execution_count": 0,
   "metadata": {
    "colab": {},
    "colab_type": "code",
    "id": "-Nwq_dZM_oIz"
   },
   "outputs": [],
   "source": [
    "from sklearn.svm import SVC \n",
    "svm_model_linear = SVC(kernel = 'linear', C = 100).fit(X_train, y_train) \n",
    "svm_predictions = svm_model_linear.predict(X_test)   \n",
    "# model accuracy for X_test   \n",
    "accuracy = svm_model_linear.score(X_test, y_test) "
   ]
  },
  {
   "cell_type": "code",
   "execution_count": 0,
   "metadata": {
    "colab": {},
    "colab_type": "code",
    "id": "uya1dFvy_8KQ"
   },
   "outputs": [],
   "source": [
    "accuracy*100"
   ]
  },
  {
   "cell_type": "code",
   "execution_count": 0,
   "metadata": {
    "colab": {},
    "colab_type": "code",
    "id": "1zZ3zYcR__YY"
   },
   "outputs": [],
   "source": [
    "svm_model_linear = SVC(kernel = 'rbf', C = 10000).fit(X_train, y_train) \n",
    "svm_predictions = svm_model_linear.predict(X_test)   \n",
    "# model accuracy for X_test   \n",
    "accuracy = svm_model_linear.score(X_test, y_test) "
   ]
  },
  {
   "cell_type": "code",
   "execution_count": 0,
   "metadata": {
    "colab": {},
    "colab_type": "code",
    "id": "08zKfdfUAI3r"
   },
   "outputs": [],
   "source": [
    "accuracy*100"
   ]
  },
  {
   "cell_type": "code",
   "execution_count": 0,
   "metadata": {
    "colab": {},
    "colab_type": "code",
    "id": "EHdlfbYHAVJs"
   },
   "outputs": [],
   "source": [
    "svm_model_linear = SVC(kernel = 'poly', C = 100000).fit(X_train, y_train) \n",
    "svm_predictions = svm_model_linear.predict(X_test)   \n",
    "# model accuracy for X_test   \n",
    "accuracy = svm_model_linear.score(X_test, y_test) "
   ]
  },
  {
   "cell_type": "code",
   "execution_count": 0,
   "metadata": {
    "colab": {},
    "colab_type": "code",
    "id": "T5zYS8PTCLSz"
   },
   "outputs": [],
   "source": [
    "accuracy*100"
   ]
  },
  {
   "cell_type": "code",
   "execution_count": 0,
   "metadata": {
    "colab": {},
    "colab_type": "code",
    "id": "Uss9d5XGCWKy"
   },
   "outputs": [],
   "source": [
    "knn = KNeighborsClassifier(n_neighbors = 40, metric = 'euclidean')\n",
    "knn.fit(X_train, y_train)"
   ]
  },
  {
   "cell_type": "code",
   "execution_count": 0,
   "metadata": {
    "colab": {},
    "colab_type": "code",
    "id": "3FX1h8f0Cc81"
   },
   "outputs": [],
   "source": [
    "knn.score(X_test, y_test)"
   ]
  },
  {
   "cell_type": "code",
   "execution_count": 0,
   "metadata": {
    "colab": {},
    "colab_type": "code",
    "id": "jSookyArCuPi"
   },
   "outputs": [],
   "source": [
    "y_pred = knn.predict(X_test)"
   ]
  },
  {
   "cell_type": "code",
   "execution_count": 0,
   "metadata": {
    "colab": {},
    "colab_type": "code",
    "id": "l4eFTB7mCyzK"
   },
   "outputs": [],
   "source": [
    "cm = np.array(confusion_matrix(y_test, y_pred, labels=[5,4,3,2,1,0]))\n",
    "confusion = pd.DataFrame(cm, index=['is_Wheat', 'is_Soyabean','is_Mustard','is_Maize', 'is_Barley', 'is_Bajra'],\n",
    "                         columns=['predicted_Wheat','predicted_Soyabean', 'predicted_Mustard', 'predicted_Maize', 'predicted_Barley', 'predicted_Bajra'])\n",
    "confusion"
   ]
  },
  {
   "cell_type": "code",
   "execution_count": 0,
   "metadata": {
    "colab": {},
    "colab_type": "code",
    "id": "fHnmQk2VrT3l"
   },
   "outputs": [],
   "source": []
  }
 ],
 "metadata": {
  "colab": {
   "name": "Classifier.ipynb",
   "provenance": []
  },
  "kernelspec": {
   "display_name": "Python 3",
   "language": "python",
   "name": "python3"
  },
  "language_info": {
   "codemirror_mode": {
    "name": "ipython",
    "version": 3
   },
   "file_extension": ".py",
   "mimetype": "text/x-python",
   "name": "python",
   "nbconvert_exporter": "python",
   "pygments_lexer": "ipython3",
   "version": "3.7.6"
  }
 },
 "nbformat": 4,
 "nbformat_minor": 1
}
